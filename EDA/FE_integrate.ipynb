{
 "cells": [
  {
   "cell_type": "markdown",
   "id": "9f501e57-5c18-4c28-945d-0faf2af8212b",
   "metadata": {},
   "source": [
    "## 여기부터 "
   ]
  },
  {
   "cell_type": "code",
   "execution_count": 1,
   "id": "f2092ddf-4a2e-475e-80d5-499e2cd265ff",
   "metadata": {},
   "outputs": [],
   "source": [
    "import pandas as pd\n",
    "import numpy as np\n",
    "import os"
   ]
  },
  {
   "cell_type": "markdown",
   "id": "4708b1f0-ce4f-4916-9d54-dd7bb63d24c6",
   "metadata": {},
   "source": [
    "## 🐬 파일 수정 시 버전 수정 필요 \n",
    "- Major, Minor, Patch\n",
    "- Major : 동일한 이름을 가진 feature 의 특성이 바뀌었을 경우\n",
    "    - ` 예를 들어, ` age column 이 numeric 이었는데 str 로 바뀐 경우 \n",
    "- Minor : 신규 feature 추가 \n",
    "- Patch : 코드 오류 및 기타 단순 수정인 경우\n",
    "    - ` 예를 들어, ` 동작상 오류 또는 파일 경로 수정"
   ]
  },
  {
   "cell_type": "code",
   "execution_count": 2,
   "id": "373343f2-6678-4368-94b1-b2eda1e0e52f",
   "metadata": {},
   "outputs": [],
   "source": [
    "VERSION = \"1.0.0\""
   ]
  },
  {
   "cell_type": "code",
   "execution_count": 3,
   "id": "7e69b175-01b7-474b-99a2-1e39ccca57b2",
   "metadata": {},
   "outputs": [],
   "source": [
    "data_path = './data/train'\n",
    "train_df = pd.read_csv(os.path.join(data_path, 'train_ratings.csv')) # 전체 학습 데이터"
   ]
  },
  {
   "cell_type": "code",
   "execution_count": 4,
   "id": "4ba4e835-e660-40b3-abb3-569009af2811",
   "metadata": {},
   "outputs": [],
   "source": [
    "unique_item_list = train_df[\"item\"].unique()"
   ]
  },
  {
   "cell_type": "code",
   "execution_count": 5,
   "id": "4ef02e17-2205-40e9-9482-6f110e8b66dd",
   "metadata": {},
   "outputs": [],
   "source": [
    "direc_df  =  pd.read_csv(os.path.join(data_path, 'directors.tsv'), sep='\\t') # director\n",
    "genre_df  =  pd.read_csv(os.path.join(data_path, 'genres.tsv'), sep='\\t')    # genres\n",
    "title_df  =  pd.read_csv(os.path.join(data_path, 'titles.tsv'), sep='\\t')    # titles\n",
    "writer_df =  pd.read_csv(os.path.join(data_path, 'writers.tsv'), sep='\\t')  # writers\n",
    "year_df   =  pd.read_csv(os.path.join(data_path, 'years.tsv'), sep='\\t')      # years\n"
   ]
  },
  {
   "cell_type": "code",
   "execution_count": 6,
   "id": "28fb8f3b-d084-4cff-8472-639cfe645526",
   "metadata": {},
   "outputs": [],
   "source": [
    "base_item_df = pd.DataFrame(unique_item_list, columns=[\"item\"])"
   ]
  },
  {
   "cell_type": "markdown",
   "id": "66f27536-6803-4649-8dd1-bc4386ea0f71",
   "metadata": {},
   "source": [
    "## 여기까지 "
   ]
  },
  {
   "cell_type": "markdown",
   "id": "9d5cf813-1463-4e76-8a37-0ea1d4b62421",
   "metadata": {},
   "source": [
    "## ✨ 유진 : VERSION 1.0.0\n",
    "- Item 속성 취합\n",
    "    - Item 의 모든 특성을 취합하여 하나의 dataframe 으로 생성한다."
   ]
  },
  {
   "cell_type": "code",
   "execution_count": 7,
   "id": "fbba3101-3a68-4ed2-ae60-3fb68c553a55",
   "metadata": {},
   "outputs": [],
   "source": [
    "def get_double_item_id_list( target_df : pd.DataFrame, target_col : str = \"item\"):\n",
    "    return target_df.groupby(\"item\").size().loc[lambda x: x>1].sort_values().reset_index()[\"item\"]"
   ]
  },
  {
   "cell_type": "code",
   "execution_count": 8,
   "id": "51dd2945-f7b0-4c53-8736-02aeef4896d8",
   "metadata": {},
   "outputs": [],
   "source": [
    "# 감독은 최대 14 명 까지 가능\n",
    "double_direc_item_list = get_double_item_id_list(direc_df)\n",
    "double_genre_item_list = get_double_item_id_list(genre_df)\n",
    "double_writer_item_list = get_double_item_id_list(writer_df)\n",
    "double_title_item_list = get_double_item_id_list(title_df)\n",
    "double_year_item_list = get_double_item_id_list(year_df)"
   ]
  },
  {
   "cell_type": "code",
   "execution_count": 9,
   "id": "26a9ebd8-2d3f-4ab4-b596-1831c5b6ae5e",
   "metadata": {},
   "outputs": [],
   "source": [
    "def concat_double_item_id_list(merge_df:pd.DataFrame,double_item_list : list, target_column : str) : \n",
    "    temp_item_df = pd.DataFrame(unique_item_list, columns=[\"item\"])\n",
    "    temp_item_df = temp_item_df.merge(merge_df,how='left',on = \"item\")\n",
    "    temp_item_df = temp_item_df.drop_duplicates()\n",
    "    \n",
    "    for item in double_item_list : \n",
    "        name = \"\"\n",
    "        info_list = merge_df[merge_df[\"item\"]==item][target_column].to_list()\n",
    "        for director in info_list:\n",
    "            name+= director + \",\"\n",
    "        temp_item_df.loc[ temp_item_df[\"item\"] == item ,target_column] = name[:-1]\n",
    "    \n",
    "    return temp_item_df"
   ]
  },
  {
   "cell_type": "code",
   "execution_count": 10,
   "id": "2768673a-f049-441b-bb9e-3eb5b3ad8f10",
   "metadata": {},
   "outputs": [],
   "source": [
    "concat_direc_df = concat_double_item_id_list(direc_df, double_direc_item_list, \"director\")\n",
    "concat_genre_df = concat_double_item_id_list(genre_df, double_genre_item_list, \"genre\")\n",
    "concat_writer_df = concat_double_item_id_list(writer_df, double_writer_item_list, \"writer\")"
   ]
  },
  {
   "cell_type": "code",
   "execution_count": 11,
   "id": "3916bebf-9439-4fc7-b70c-d3d7400c4fe6",
   "metadata": {},
   "outputs": [],
   "source": [
    "base_item_df = base_item_df.merge(concat_direc_df,how=\"left\",on=\"item\")\n",
    "base_item_df = base_item_df.merge(concat_genre_df,how=\"left\",on=\"item\")\n",
    "base_item_df = base_item_df.merge(concat_writer_df,how=\"left\",on=\"item\")"
   ]
  },
  {
   "cell_type": "code",
   "execution_count": 12,
   "id": "a159a51f-bb60-48a3-b853-90647e54c686",
   "metadata": {},
   "outputs": [],
   "source": [
    "base_item_df = base_item_df.drop_duplicates()"
   ]
  },
  {
   "cell_type": "code",
   "execution_count": 13,
   "id": "6fe767cb-5266-4176-8d40-c9d4528fa7a2",
   "metadata": {},
   "outputs": [
    {
     "data": {
      "text/html": [
       "<div>\n",
       "<style scoped>\n",
       "    .dataframe tbody tr th:only-of-type {\n",
       "        vertical-align: middle;\n",
       "    }\n",
       "\n",
       "    .dataframe tbody tr th {\n",
       "        vertical-align: top;\n",
       "    }\n",
       "\n",
       "    .dataframe thead th {\n",
       "        text-align: right;\n",
       "    }\n",
       "</style>\n",
       "<table border=\"1\" class=\"dataframe\">\n",
       "  <thead>\n",
       "    <tr style=\"text-align: right;\">\n",
       "      <th></th>\n",
       "      <th>item</th>\n",
       "      <th>director</th>\n",
       "      <th>genre</th>\n",
       "      <th>writer</th>\n",
       "    </tr>\n",
       "  </thead>\n",
       "  <tbody>\n",
       "    <tr>\n",
       "      <th>0</th>\n",
       "      <td>4643</td>\n",
       "      <td>nm0000318</td>\n",
       "      <td>Action,Adventure,Drama,Sci-Fi</td>\n",
       "      <td>nm0099541,nm0115310,nm0465199,nm0742797</td>\n",
       "    </tr>\n",
       "    <tr>\n",
       "      <th>16</th>\n",
       "      <td>170</td>\n",
       "      <td>nm0812200</td>\n",
       "      <td>Action,Adventure,Crime,Thriller</td>\n",
       "      <td>NaN</td>\n",
       "    </tr>\n",
       "    <tr>\n",
       "      <th>20</th>\n",
       "      <td>531</td>\n",
       "      <td>nm0002140</td>\n",
       "      <td>Children,Drama</td>\n",
       "      <td>nm0003031,nm0122364</td>\n",
       "    </tr>\n",
       "    <tr>\n",
       "      <th>24</th>\n",
       "      <td>616</td>\n",
       "      <td>nm0718627</td>\n",
       "      <td>Animation,Children</td>\n",
       "      <td>nm0027011,nm0166307,nm0166551,nm0314788,nm0841...</td>\n",
       "    </tr>\n",
       "    <tr>\n",
       "      <th>38</th>\n",
       "      <td>2140</td>\n",
       "      <td>nm0000568,nm0001345</td>\n",
       "      <td>Adventure,Fantasy</td>\n",
       "      <td>nm0001345,nm0643973</td>\n",
       "    </tr>\n",
       "    <tr>\n",
       "      <th>...</th>\n",
       "      <td>...</td>\n",
       "      <td>...</td>\n",
       "      <td>...</td>\n",
       "      <td>...</td>\n",
       "    </tr>\n",
       "    <tr>\n",
       "      <th>37627</th>\n",
       "      <td>7753</td>\n",
       "      <td>nm0413875</td>\n",
       "      <td>Drama</td>\n",
       "      <td>nm0725564</td>\n",
       "    </tr>\n",
       "    <tr>\n",
       "      <th>37628</th>\n",
       "      <td>93422</td>\n",
       "      <td>NaN</td>\n",
       "      <td>Comedy</td>\n",
       "      <td>nm0779433</td>\n",
       "    </tr>\n",
       "    <tr>\n",
       "      <th>37629</th>\n",
       "      <td>6519</td>\n",
       "      <td>nm0467646</td>\n",
       "      <td>Comedy</td>\n",
       "      <td>nm0069547,nm0301416,nm0318429,nm0725006</td>\n",
       "    </tr>\n",
       "    <tr>\n",
       "      <th>37633</th>\n",
       "      <td>8830</td>\n",
       "      <td>nm0514546</td>\n",
       "      <td>Adventure,Drama,Horror,Sci-Fi,Thriller</td>\n",
       "      <td>nm0061829,nm0143596,nm0163177,nm0258390,nm0591...</td>\n",
       "    </tr>\n",
       "    <tr>\n",
       "      <th>37668</th>\n",
       "      <td>102880</td>\n",
       "      <td>nm0796117</td>\n",
       "      <td>Action,Adventure,Sci-Fi</td>\n",
       "      <td>nm0796117,nm1729428</td>\n",
       "    </tr>\n",
       "  </tbody>\n",
       "</table>\n",
       "<p>6807 rows × 4 columns</p>\n",
       "</div>"
      ],
      "text/plain": [
       "         item             director                                   genre  \\\n",
       "0        4643            nm0000318           Action,Adventure,Drama,Sci-Fi   \n",
       "16        170            nm0812200         Action,Adventure,Crime,Thriller   \n",
       "20        531            nm0002140                          Children,Drama   \n",
       "24        616            nm0718627                      Animation,Children   \n",
       "38       2140  nm0000568,nm0001345                       Adventure,Fantasy   \n",
       "...       ...                  ...                                     ...   \n",
       "37627    7753            nm0413875                                   Drama   \n",
       "37628   93422                  NaN                                  Comedy   \n",
       "37629    6519            nm0467646                                  Comedy   \n",
       "37633    8830            nm0514546  Adventure,Drama,Horror,Sci-Fi,Thriller   \n",
       "37668  102880            nm0796117                 Action,Adventure,Sci-Fi   \n",
       "\n",
       "                                                  writer  \n",
       "0                nm0099541,nm0115310,nm0465199,nm0742797  \n",
       "16                                                   NaN  \n",
       "20                                   nm0003031,nm0122364  \n",
       "24     nm0027011,nm0166307,nm0166551,nm0314788,nm0841...  \n",
       "38                                   nm0001345,nm0643973  \n",
       "...                                                  ...  \n",
       "37627                                          nm0725564  \n",
       "37628                                          nm0779433  \n",
       "37629            nm0069547,nm0301416,nm0318429,nm0725006  \n",
       "37633  nm0061829,nm0143596,nm0163177,nm0258390,nm0591...  \n",
       "37668                                nm0796117,nm1729428  \n",
       "\n",
       "[6807 rows x 4 columns]"
      ]
     },
     "execution_count": 13,
     "metadata": {},
     "output_type": "execute_result"
    }
   ],
   "source": [
    "base_item_df"
   ]
  },
  {
   "cell_type": "markdown",
   "id": "2bb3f194-cd05-42c8-bf94-649fe0f4a2a3",
   "metadata": {},
   "source": [
    "## ✨ 이름 : VERSION , 수정 내용 기입 \n",
    "> 수정 후 해당 셀을 마지막에 추가해주세요. "
   ]
  },
  {
   "cell_type": "code",
   "execution_count": null,
   "id": "b654c6fe-0d1a-437e-b5c2-f311f4d46b80",
   "metadata": {},
   "outputs": [],
   "source": []
  },
  {
   "cell_type": "code",
   "execution_count": null,
   "id": "0d9b6176-a087-4b52-9c6e-d3089eeac1c9",
   "metadata": {},
   "outputs": [],
   "source": []
  },
  {
   "cell_type": "code",
   "execution_count": null,
   "id": "539608f3-1c67-413c-905e-da49ccb4f5e0",
   "metadata": {},
   "outputs": [],
   "source": []
  },
  {
   "cell_type": "markdown",
   "id": "a1b7e001-7d13-4063-8ab9-76237c7e35ce",
   "metadata": {},
   "source": [
    "## csv 파일 생성 "
   ]
  },
  {
   "cell_type": "code",
   "execution_count": 14,
   "id": "3b022909-a443-4ac8-90ca-2b01d1296697",
   "metadata": {},
   "outputs": [],
   "source": [
    "base_item_df.to_csv(f\"FE_v{VERSION}.csv\")"
   ]
  }
 ],
 "metadata": {
  "kernelspec": {
   "display_name": "movie_rec",
   "language": "python",
   "name": "movie_rec"
  },
  "language_info": {
   "codemirror_mode": {
    "name": "ipython",
    "version": 3
   },
   "file_extension": ".py",
   "mimetype": "text/x-python",
   "name": "python",
   "nbconvert_exporter": "python",
   "pygments_lexer": "ipython3",
   "version": "3.8.5"
  }
 },
 "nbformat": 4,
 "nbformat_minor": 5
}
